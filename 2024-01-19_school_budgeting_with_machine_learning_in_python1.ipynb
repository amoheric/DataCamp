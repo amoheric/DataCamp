{
 "cells": [
  {
   "cell_type": "markdown",
   "id": "8c7c6063-3393-4a95-b9f6-e41bf3ceee0a",
   "metadata": {},
   "source": [
    "# Imports\n",
    "\n",
    "- DataCamp package versions vs. local versions:\n",
    "  - `sklearn v0.20.4` vs. `1.3.2`\n",
    "  - `numpy v1.17.4` vs. `1.26.3`\n",
    "  - `pandas v0.24.2` vs. `2.1.4`\n",
    "  - `matplotlib v3.1.2` vs. `3.8.1`\n",
    "  - `seaborn n/a` vs. `0.13.1`"
   ]
  },
  {
   "cell_type": "code",
   "execution_count": null,
   "id": "efec3b43-ff5b-4cba-b0bc-75701ec7b24b",
   "metadata": {},
   "outputs": [],
   "source": [
    "import pandas as pd\n",
    "import matplotlib.pyplot as plt\n",
    "import seaborn as sns\n",
    "import numpy as np\n",
    "from typing import List, Union"
   ]
  },
  {
   "cell_type": "code",
   "execution_count": null,
   "id": "4c133d10-081b-43a9-bf0f-5063bb1b0e52",
   "metadata": {},
   "outputs": [],
   "source": [
    "from sklearn.linear_model import LogisticRegression\n",
    "from sklearn.multiclass import OneVsRestClassifier\n",
    "from sklearn.feature_extraction.text import CountVectorizer\n",
    "\n",
    "from sklearn.pipeline import Pipeline\n",
    "from sklearn.model_selection import train_test_split\n",
    "from sklearn.impute import SimpleImputer\n",
    "\n",
    "from sklearn.preprocessing import FunctionTransformer\n",
    "from sklearn.pipeline import FeatureUnion\n",
    "\n",
    "from sklearn.ensemble import RandomForestClassifier"
   ]
  },
  {
   "cell_type": "code",
   "execution_count": null,
   "id": "85079ff5-7209-4ec2-a92a-ec9247162bad",
   "metadata": {},
   "outputs": [],
   "source": [
    "import sys\n",
    "sys.path.append(r'D:\\users\\trenton\\Dropbox\\PythonProjects\\DataCamp\\functions')\n",
    "\n",
    "from multilabel import multilabel_train_test_split\n",
    "from score_sub import score_submission"
   ]
  },
  {
   "cell_type": "code",
   "execution_count": null,
   "id": "0ace076f-4df9-4283-a268-ab8ca45405b1",
   "metadata": {},
   "outputs": [],
   "source": [
    "pd.set_option('display.max_columns', 700)\n",
    "pd.set_option('display.max_rows', 400)\n",
    "pd.set_option('display.min_rows', 10)\n",
    "pd.set_option('display.expand_frame_repr', True)"
   ]
  },
  {
   "cell_type": "markdown",
   "id": "5698fbde-4512-4417-97aa-bb18e8d8d17b",
   "metadata": {},
   "source": [
    "# Saving data from DataCamp to a local csv"
   ]
  },
  {
   "cell_type": "markdown",
   "id": "2b2bf183-f310-4383-9a58-4537e197982f",
   "metadata": {},
   "source": [
    "```python\n",
    "# output the data to a format that can be copied and pasted into notepad++\n",
    "# find all non and replace with np.nan\n",
    "# copy all of lists and replace ... in data = np.array([...])\n",
    "# print the columns names df.columns.tolist() and then create a variable in a notebook\n",
    "# create a dataframe with df = pd.DataFrame(data=data, columns=columns)\n",
    "\n",
    "# create the dataframe in the DataCamp console\n",
    "df = pd.read_csv('TrainingData.csv')  # do not specify index_col=0\n",
    "\n",
    "# print each row as a list with a comma at the end and then copy all of the lists into notepad++\n",
    "for r in df.to_numpy():\n",
    "    print(list(r), ',')\n",
    "\n",
    "# print the column names and copy them\n",
    "df.columns.tolist()\n",
    "\n",
    "# in jupyterlab\n",
    "data = np.array([...])  # replace ... with the cleaned lists from notepad++\n",
    "columns = ...  # pasted from DataCamp console\n",
    "\n",
    "df = pd.DataFrame(data=data, columns=columns)\n",
    "\n",
    "df.to_csv('TrainingData.csv', index=False)\n",
    "```"
   ]
  },
  {
   "cell_type": "markdown",
   "id": "f3731136-2d6e-4986-b2ae-34fa1744790c",
   "metadata": {},
   "source": [
    "# Exploring the Raw Data"
   ]
  },
  {
   "cell_type": "code",
   "execution_count": null,
   "id": "1f73a14f-5566-47e6-83f2-44da71584c93",
   "metadata": {},
   "outputs": [],
   "source": [
    "df = pd.read_csv('data/2024-01-19_school_budgeting_with_machine_learning_in_python/TrainingData.csv', index_col=0)"
   ]
  },
  {
   "cell_type": "code",
   "execution_count": null,
   "id": "a3aff791-1d21-427b-a658-1028258ad240",
   "metadata": {},
   "outputs": [],
   "source": [
    "df.head()"
   ]
  },
  {
   "cell_type": "code",
   "execution_count": null,
   "id": "563556b0-7a29-4d6b-b556-e9ac8376a9b3",
   "metadata": {},
   "outputs": [],
   "source": [
    "df.info()"
   ]
  },
  {
   "cell_type": "markdown",
   "id": "978f84ff-4bc2-49b6-8d96-8b41011bd643",
   "metadata": {},
   "source": [
    "## Summarize the Data"
   ]
  },
  {
   "cell_type": "code",
   "execution_count": null,
   "id": "7ffeeb68-9cba-42b1-9ea3-e5e514aa40a8",
   "metadata": {},
   "outputs": [],
   "source": [
    "# Print the summary statistics\n",
    "df.describe()"
   ]
  },
  {
   "cell_type": "code",
   "execution_count": null,
   "id": "9e48c25f-deb4-411b-b8e3-cff93f10de68",
   "metadata": {},
   "outputs": [],
   "source": [
    "# Create the histogram\n",
    "plt.hist(df['FTE'].dropna(), ec='k')  # .dropna() isn't needed\n",
    "\n",
    "# Add title and labels\n",
    "plt.title('Distribution of %full-time \\n employee works')\n",
    "plt.xlabel('% of full-time')\n",
    "plt.ylabel('num employees')\n",
    "\n",
    "# Display the histogram\n",
    "plt.show()"
   ]
  },
  {
   "cell_type": "markdown",
   "id": "bae073d7-a2cf-4215-a253-efaad52c4cac",
   "metadata": {},
   "source": [
    "**The high variance in expenditures makes sense (some purchases are cheap some are expensive). Also, it looks like the FTE column is bimodal. That is, there are some part-time and some full-time employees.**"
   ]
  },
  {
   "cell_type": "code",
   "execution_count": null,
   "id": "9a4152c6-4d74-44dc-8764-34b7703bffd2",
   "metadata": {},
   "outputs": [],
   "source": [
    "df.dtypes.value_counts()"
   ]
  },
  {
   "cell_type": "markdown",
   "id": "d21a4285-a60d-439e-a0bb-4d4e7cbdd00c",
   "metadata": {},
   "source": [
    "## Encode the Labels as Categorical Variables"
   ]
  },
  {
   "cell_type": "code",
   "execution_count": null,
   "id": "1bed5b8b-46e5-4c58-8178-d0df14ba9d40",
   "metadata": {},
   "outputs": [],
   "source": [
    "LABELS_td = ['Function', 'Use', 'Sharing', 'Reporting', 'Student_Type', 'Position_Type', 'Object_Type', 'Pre_K', 'Operating_Status']\n",
    "categorize_label = lambda x: x.astype('category')\n",
    "df[LABELS_td] = df[LABELS_td].apply(categorize_label)\n",
    "print(df[LABELS_td].dtypes)"
   ]
  },
  {
   "cell_type": "markdown",
   "id": "06f438ff-2132-487b-a4fc-47d2fc318245",
   "metadata": {},
   "source": [
    "## Counting Unique Labels"
   ]
  },
  {
   "cell_type": "code",
   "execution_count": null,
   "id": "aa046f05-270d-4ba9-8d7e-bbcf6c4edfae",
   "metadata": {},
   "outputs": [],
   "source": [
    "num_unique_labels = df[LABELS_td].apply(pd.Series.nunique)\n",
    "ax = num_unique_labels.plot(kind='bar', ylabel='Number of Unique Categories', xlabel='Column Name')"
   ]
  },
  {
   "cell_type": "markdown",
   "id": "eaa6ec4b-6f90-4a2c-820e-0adaeca72b2f",
   "metadata": {},
   "source": [
    "## `def compute_log_loss`"
   ]
  },
  {
   "cell_type": "code",
   "execution_count": null,
   "id": "8fe98be5-ce50-4caf-a513-1d2898cd8a64",
   "metadata": {},
   "outputs": [],
   "source": [
    "def compute_log_loss(predicted: Union[float, List[float]], actual: [int, List[int]], eps: float=1e-14) -> float:\n",
    "    \"\"\"\n",
    "    Computes the logarithmic loss between predicted and \n",
    "    actual when these are 1D arrays\n",
    "\n",
    "    :param predicted: The predicted probabilities as floats between 0-1\n",
    "    :param actual: The actual binary labels. Either 0 or 1\n",
    "    :param eps (optional): log(0) is inf, so we need to offset our\n",
    "                           precidted values slightly by eps from 0 to 1.\n",
    "    \"\"\"\n",
    "\n",
    "    predicted = np.clip(predicted, eps, 1 - eps)\n",
    "    loss = -1 * np.mean(actual * np.log(predicted)\n",
    "                        + (1 - actual)\n",
    "                        * np.log(1 - predicted))\n",
    "    return loss"
   ]
  },
  {
   "cell_type": "code",
   "execution_count": null,
   "id": "23552926-321e-4bf9-9669-7068bc1e60b6",
   "metadata": {},
   "outputs": [],
   "source": [
    "data = [(0.85, 1), (0.99, 0), (0.51, 0)]\n",
    "\n",
    "for p, y in data:\n",
    "    print(compute_log_loss(p, y))"
   ]
  },
  {
   "cell_type": "markdown",
   "id": "cd275576-9af3-40e1-9d3a-f97860f3a316",
   "metadata": {},
   "source": [
    "**Lowest: A, Middle: C, Highest: B**\n",
    "\n",
    "**Of the two incorrect predictions, B will have a higher log loss because it is confident and wrong.**"
   ]
  },
  {
   "cell_type": "markdown",
   "id": "5deea260-0aea-4c79-ba4e-b4815d7559fa",
   "metadata": {},
   "source": [
    "## Computing log loss with Numpy"
   ]
  },
  {
   "cell_type": "code",
   "execution_count": null,
   "id": "f3e9931b-c32a-43e9-b7c2-53fd2010b57b",
   "metadata": {},
   "outputs": [],
   "source": [
    "correct_confident = np.array([0.95, 0.95, 0.95, 0.95, 0.95, 0.05, 0.05, 0.05, 0.05, 0.05])\n",
    "correct_not_confident = np.array([0.65, 0.65, 0.65, 0.65, 0.65, 0.35, 0.35, 0.35, 0.35, 0.35])\n",
    "wrong_not_confident = np.array([0.35, 0.35, 0.35, 0.35, 0.35, 0.65, 0.65, 0.65, 0.65, 0.65])\n",
    "wrong_confident = np.array([0.05, 0.05, 0.05, 0.05, 0.05, 0.95, 0.95, 0.95, 0.95, 0.95])\n",
    "actual_labels = np.array([1., 1., 1., 1., 1., 0., 0., 0., 0., 0.])"
   ]
  },
  {
   "cell_type": "code",
   "execution_count": null,
   "id": "d2cbe99d-ee7b-4b22-823a-5fb204bba355",
   "metadata": {},
   "outputs": [],
   "source": [
    "# Compute and print log loss for 1st case\n",
    "correct_confident_loss = compute_log_loss(correct_confident, actual_labels)\n",
    "print(\"Log loss, correct and confident: {}\".format(correct_confident_loss)) \n",
    "\n",
    "# Compute log loss for 2nd case\n",
    "correct_not_confident_loss = compute_log_loss(correct_not_confident, actual_labels)\n",
    "print(\"Log loss, correct and not confident: {}\".format(correct_not_confident_loss)) \n",
    "\n",
    "# Compute and print log loss for 3rd case\n",
    "wrong_not_confident_loss = compute_log_loss(wrong_not_confident, actual_labels)\n",
    "print(\"Log loss, wrong and not confident: {}\".format(wrong_not_confident_loss)) \n",
    "\n",
    "# Compute and print log loss for 4th case\n",
    "wrong_confident_loss = compute_log_loss(wrong_confident, actual_labels)\n",
    "print(\"Log loss, wrong and confident: {}\".format(wrong_confident_loss)) \n",
    "\n",
    "# Compute and print log loss for actual labels\n",
    "actual_labels_loss = compute_log_loss(actual_labels, actual_labels)\n",
    "print(\"Log loss, actual labels: {}\".format(actual_labels_loss)) "
   ]
  },
  {
   "cell_type": "markdown",
   "id": "d71d5d17-738b-4d7a-837c-5349702dc891",
   "metadata": {},
   "source": [
    "**Log loss penalizes highly confident wrong answers much more than any other type. This will be a good metric to use on your models.**"
   ]
  },
  {
   "cell_type": "markdown",
   "id": "3d3842af-d395-4ab3-8d59-1ba934a936ef",
   "metadata": {},
   "source": [
    "# Creating a simple first model"
   ]
  },
  {
   "cell_type": "markdown",
   "id": "396e356e-6dd2-49e2-9a4a-decbd15701d5",
   "metadata": {},
   "source": [
    "## It's time to build a model"
   ]
  },
  {
   "cell_type": "markdown",
   "id": "99a257a0-cfb6-4acb-b6f6-a5555a644d61",
   "metadata": {},
   "source": [
    "```python\n",
    "data_to_train = df[NUMERIC_COLUMNS].fillna(-1000)\n",
    "labels_to_use = pd.get_dummies(df[LABELS])\n",
    "\n",
    "X_train, X_test, y_train, y_test = multilabel_train_test_split(data_to_train, labels_to_use, size=0.2, seed=123)\n",
    "\n",
    "clf = OneVsRestClassifier(LogisticRegression())\n",
    "clf.fit(X_train, y_train)\n",
    "```"
   ]
  },
  {
   "cell_type": "markdown",
   "id": "d7cdde3a-ed94-48f6-935e-718d56ecd376",
   "metadata": {},
   "source": [
    "### Setting up a train-test split in scikit-learn"
   ]
  },
  {
   "cell_type": "code",
   "execution_count": null,
   "id": "fe20bd07-e061-42df-9d1b-b9828dcd499f",
   "metadata": {},
   "outputs": [],
   "source": [
    "NUMERIC_COLUMNS_td = df.select_dtypes(include='number').columns.tolist()\n",
    "\n",
    "# Create the new DataFrame: numeric_data_only\n",
    "numeric_data_only = df[NUMERIC_COLUMNS_td].fillna(-1000)\n",
    "\n",
    "# Get labels and convert to dummy variables: label_dummies\n",
    "label_dummies = pd.get_dummies(df[LABELS_td])\n",
    "\n",
    "# Create training and test sets\n",
    "X_train, X_test, y_train, y_test = multilabel_train_test_split(numeric_data_only,\n",
    "                                                               label_dummies,\n",
    "                                                               size=0.2, \n",
    "                                                               seed=123)\n",
    "\n",
    "# Print the info\n",
    "print(\"X_train info:\")\n",
    "print(X_train.info())\n",
    "print(\"\\nX_test info:\")  \n",
    "print(X_test.info())\n",
    "print(\"\\ny_train info:\")  \n",
    "print(y_train.info())\n",
    "print(\"\\ny_test info:\")  \n",
    "print(y_test.info()) "
   ]
  },
  {
   "cell_type": "markdown",
   "id": "57c77394-64ca-4471-90a8-73cd2bd38f14",
   "metadata": {},
   "source": [
    "### Training a model"
   ]
  },
  {
   "cell_type": "code",
   "execution_count": null,
   "id": "41707c4f-006f-48fc-9847-1f6cd6789a89",
   "metadata": {},
   "outputs": [],
   "source": [
    "# Instantiate the classifier: clf\n",
    "clf = OneVsRestClassifier(LogisticRegression())\n",
    "\n",
    "# Fit the classifier to the training data\n",
    "clf.fit(X_train, y_train)\n",
    "\n",
    "# Print the accuracy\n",
    "print(\"Accuracy: {}\".format(clf.score(X_test, y_test)))"
   ]
  },
  {
   "cell_type": "markdown",
   "id": "da410827-3364-45df-94ed-125da1a6750c",
   "metadata": {},
   "source": [
    "**The good news is that your workflow didn't cause any errors. The bad news is that your model scored the lowest possible accuracy: 0.0! But hey, you just threw away ALL of the text data in the budget. Later, you won't. Before you add the text data, let's see how the model does when scored by log loss.**"
   ]
  },
  {
   "cell_type": "markdown",
   "id": "ae519164-080b-4993-a82e-80a218b78500",
   "metadata": {},
   "source": [
    "## Making predictions"
   ]
  },
  {
   "cell_type": "markdown",
   "id": "fc45dec5-f913-47f5-94aa-1a8b1fbcdcda",
   "metadata": {},
   "source": [
    "```python\n",
    "houldout = pd.read_csv('HoldoutData.csv', index_col=0)\n",
    "holdout = holdout[NUMERIC_COLUMNS].fillna(-1000)\n",
    "predictions = clf.predict_proba(holdout)\n",
    "```\n",
    "\n",
    "- Using `.predict()`\n",
    "  - would result in an output of 0 or 1\n",
    "  - Log loss penalized being confident and wrong\n",
    "  - Worse performance compared to `.predict_proba()`\n",
    "\n",
    "- Format and submit predictions\n",
    "```python\n",
    "prediction_df = pd.DataFrame(columns=pd.get_dummies(df[LABELS], prefix_sep='__').columns, index=houldout.index, data=predictions)\n",
    "prediction_df.to_csv('predictions.csv')\n",
    "score = score_submission(pred_path='predictions.csv')\n",
    "```"
   ]
  },
  {
   "cell_type": "markdown",
   "id": "de4a60c0-2f7f-479e-81de-a7dffaf8515b",
   "metadata": {},
   "source": [
    "### Use your model to predict values on holdout data"
   ]
  },
  {
   "cell_type": "code",
   "execution_count": null,
   "id": "4c1f53fd-8846-4a21-9605-90ca91ca08f3",
   "metadata": {},
   "outputs": [],
   "source": [
    "# Instantiate the classifier: clf\n",
    "clf = OneVsRestClassifier(LogisticRegression())\n",
    "\n",
    "# Fit it to the training data\n",
    "clf.fit(X_train, y_train)\n",
    "\n",
    "# Load the holdout data: holdout\n",
    "holdout = pd.read_csv('data/2024-01-19_school_budgeting_with_machine_learning_in_python/HoldoutData.csv', index_col=0)\n",
    "\n",
    "# Generate predictions: predictions\n",
    "NUMERIC_COLUMNS_hd = holdout.select_dtypes(include='number').columns\n",
    "predictions = clf.predict_proba(holdout[NUMERIC_COLUMNS_hd].fillna(-1000))"
   ]
  },
  {
   "cell_type": "markdown",
   "id": "986f6251-2ebf-403c-9e64-6192cf7ea705",
   "metadata": {},
   "source": [
    "### Writing out your results to a csv for submission"
   ]
  },
  {
   "cell_type": "code",
   "execution_count": null,
   "id": "a69f822a-ed43-4139-ada1-390c9fab0bba",
   "metadata": {},
   "outputs": [],
   "source": [
    "# Format predictions in DataFrame: prediction_df\n",
    "# pd.get_dummies(df[LABELS], ...) is correctly using df, not holdout\n",
    "prediction_df = pd.DataFrame(columns=pd.get_dummies(df[LABELS_td], prefix_sep='__').columns,\n",
    "                             index=holdout.index,\n",
    "                             data=predictions)\n",
    "\n",
    "# Save prediction_df to csv\n",
    "prediction_df.to_csv('data/2024-01-19_school_budgeting_with_machine_learning_in_python/predictions.csv')"
   ]
  },
  {
   "cell_type": "code",
   "execution_count": null,
   "id": "ea2ce94e-6704-40d2-a91f-5676f30a6d8d",
   "metadata": {},
   "outputs": [],
   "source": [
    "# requires functions and variables from https://goodboychan.github.io/python/datacamp/machine_learning/2020/06/05/01-School-Budgeting-with-Machine-Learning-in-Python.html\n",
    "# BOX_PLOTS_COLUMN_INDICES, def _multi_multi_log_loss, and def score_submissio\n",
    "\n",
    "# Submit the predictions for scoring: score\n",
    "score = score_submission(pred_path='data/2024-01-19_school_budgeting_with_machine_learning_in_python/predictions.csv', holdout_path='data/2024-01-19_school_budgeting_with_machine_learning_in_python/TestSetLabelsSample.csv')\n",
    "\n",
    "# Print score\n",
    "print('Your model, trained with numeric data only, yields logloss score: {}'.format(score))"
   ]
  },
  {
   "cell_type": "markdown",
   "id": "b68f7382-5f4b-4f01-a69a-dda406e6b18d",
   "metadata": {},
   "source": [
    "**Even though your basic model scored 0.0 accuracy, it nevertheless performs better than the benchmark score of 2.0455. You've now got the basics down and have made a first pass at this complicated supervised learning problem. It's time to step up your game and incorporate the text data.**"
   ]
  },
  {
   "cell_type": "markdown",
   "id": "4af67139-1f04-41ce-a068-79785e51e4a7",
   "metadata": {},
   "source": [
    "## A very brief introduction to NLP\n",
    "\n",
    "- Data for NLP:\n",
    "  - Text, documents, speech, ...\n",
    "- Tokenization\n",
    "  - Splitting a string into segments\n",
    "  - Store segments as list\n",
    "- Example: \"Natural Language Processing\"\n",
    "  - `['Natural', 'Language', 'Processing']`\n",
    "\n",
    "- Tokenize on whitespace\n",
    "  - Petro-vend fuel and fluids\n",
    "    - Petro-vend | fuel | and | fluids\n",
    "- Tokenize on whitespace and punctuation\n",
    "  - Petro | vend | fuel | and | fluids\n",
    " \n",
    "- Bag of words representation\n",
    "  - Count the umber of times a particular token appears\n",
    "  - 'Bag of words'\n",
    "    - Count the number of times a word was pulled out of the bag\n",
    "- The approach discards information about word order\n",
    "  - 'Red, not blue' is the same as 'blue, not red'\n",
    " \n",
    "- 1-gram, 2-gram, ..., n-gram\n",
    "  - ![][1]\n",
    " \n",
    "[1]: https://raw.githubusercontent.com/trenton3983/DataCamp/master/Images/2024-01-19_school_budgeting_with_machine_learning_in_python/sb01.jpg"
   ]
  },
  {
   "cell_type": "markdown",
   "id": "26493578-8b50-4d8b-b5d9-70cf54c38f8e",
   "metadata": {},
   "source": [
    "### Tokenizating text\n",
    "\n",
    "- 6"
   ]
  },
  {
   "cell_type": "markdown",
   "id": "7658c31c-bb85-4322-b400-cb3d19c6fedf",
   "metadata": {},
   "source": [
    "### Testing your NLP credentials with n-grams\n",
    "\n",
    "- 12 - The number of `1-grams + 2-grams + 3-grams` is `5 + 4 + 3 = 12`."
   ]
  },
  {
   "cell_type": "markdown",
   "id": "0bda3cb6-c027-42da-815b-de5c1b5bfe8a",
   "metadata": {},
   "source": [
    "## Representing text numerically\n",
    "\n",
    "**Scikit-learn tools for bag-of-words**\n",
    "\n",
    "- `CountVectorizer()`\n",
    "  - Tokenizes all the strings\n",
    "  - Builds a 'vocabulary'\n",
    "  - Counts the occurrences of each token in the vocabulary\n",
    " \n",
    "**Using `CountVectorizer() on a column of main dataset**\n",
    "\n",
    "```python\n",
    "from sklearn.feature_extraction.text import CountVecotrizer\n",
    "\n",
    "TOKENS_BASIC = '\\\\\\\\S+(?=\\\\\\\\s+)'\n",
    "df.Program_Description.fillna('', inplace=True)\n",
    "vec_basic = CountVectorizer(token_pattern=TOKENS_BASIC)\n",
    "\n",
    "vec_basic.fit(df.Program_Description)\n",
    "msg = 'There are {} token in Program_Desction if tokean are any non-whitespace'\n",
    "print(msg.format(len(vec_basic.get_feature_names())))\n",
    "```\n"
   ]
  },
  {
   "cell_type": "markdown",
   "id": "77c900a0-2c4e-4aab-b89c-f6ab32b49a50",
   "metadata": {},
   "source": [
    "### Creating a bag-of-words in scikit-learn\r\n",
    "\r\n",
    "In this exercise, you'll study the effects of tokenizing in different ways by comparing the bag-of-words representations resulting from different token patterns.\r\n",
    "\r\n",
    "You will focus on one feature only, the `Position_Extra` column, which describes any additional information not captured by the `Position_Type` label.\r\n",
    "\r\n",
    "For example, in the Shell you can check out the budget item in row 8960 of the data using `df.loc[8960]`. Looking at the output reveals that this `Object_Description` is overtime pay. For who? The Position Type is merely \"other\", but the Position Extra elaborates: \"BUS DRIVER\". Explore the column further to see more instances. It has a lot of NaN values.\r\n",
    "\r\n",
    "Your task is to turn the raw text in this column into a bag-of-words representation by creating tokens that contain only alphanumeric characters.\r\n",
    "\r\n",
    "For comparison purposes, the first 15 tokens of `vec_basic`, which splits `df.Position_Extra` into tokens when it encounters only whitespace characters, have been printed along with the length of the representation.\r\n",
    "\r\n",
    "**Instructions**\r\n",
    "\r\n",
    "- Import `CountVectorizer` from `sklearn.feature_extraction.text`.\r\n",
    "- Fill missing values in `df.Position_Extra` using `.fillna('')` to replace NaNs with empty strings. Specify the additional keyword argument `inplace=True` so that you don't have to assign the result back to `df`.\r\n",
    "- Instantiate the `CountVectorizer` as `vec_alphanumeric` by specifying the `token_pattern` to be `TOKENS_ALPHANUMERIC`.\r\n",
    "- Fit `vec_alphanumeric` to `df.Position_Extra`.\r\n",
    "- Hit submit to see the `len` of the fitted representation as well as the first 15 elements, and compare to `vec_basic`."
   ]
  },
  {
   "cell_type": "code",
   "execution_count": null,
   "id": "3529766f-ddf4-4c1a-856a-3e9244c7f769",
   "metadata": {},
   "outputs": [],
   "source": [
    "# Create the token pattern: TOKENS_ALPHANUMERIC\n",
    "TOKENS_ALPHANUMERIC = '[A-Za-z0-9]+(?=\\\\s+)'\n",
    "\n",
    "# Fill missing values in df.Position_Extra\n",
    "df.Position_Extra.fillna('', inplace=True)\n",
    "\n",
    "# Instantiate the CountVectorizer: vec_alphanumeric\n",
    "vec_alphanumeric = CountVectorizer(token_pattern=TOKENS_ALPHANUMERIC)\n",
    "\n",
    "# Fit to the data\n",
    "vec_alphanumeric.fit(df.Position_Extra)\n",
    "\n",
    "# Print the number of tokens and first 15 tokens\n",
    "msg = \"There are {} tokens in Position_Extra if we split on non-alpha numeric\"\n",
    "print(msg.format(len(vec_alphanumeric.get_feature_names_out())))\n",
    "print(vec_alphanumeric.get_feature_names_out()[:15])"
   ]
  },
  {
   "cell_type": "markdown",
   "id": "3140f45f-e334-4675-9474-6b649752bc8b",
   "metadata": {},
   "source": [
    "**Treating only alpha-numeric characters as tokens gives you a smaller number of more meaningful tokens.**"
   ]
  },
  {
   "cell_type": "markdown",
   "id": "80aba1af-baa2-4e3b-a86b-879b10e9bc68",
   "metadata": {},
   "source": [
    "### Combining text columns for tokenization\r\n",
    "\r\n",
    "In order to get a bag-of-words representation for all the text data in our DataFrame, you must first convert the text data in each row of the DataFrame into a single string.\r\n",
    "\r\n",
    "In the previous exercise, this wasn't necessary because you only looked at one column of data, so each row was already just a single string. `CountVectorizer` expects each row to just be a single string, so in order to use all of the text columns, you'll need a method to turn a list of strings into a single string.\r\n",
    "\r\n",
    "In this exercise, you'll complete the function definition `combine_text_columns()`. When completed, this function will convert all training text data in your DataFrame to a single string per row that can be passed to the vectorizer object and made into a bag-of-words using the `.fit_transform()` method.\r\n",
    "\r\n",
    "Note that the function uses `NUMERIC_COLUMNS` and `LABELS` to determine which columns to drop. These lists have been loaded into the workspace.\r\n",
    "\r\n",
    "**Instructions**\r\n",
    "\r\n",
    "- Use the `.drop()` method on `data_frame` with `to_drop` and `axis=` as arguments to drop the non-text data. Save the result as `text_data`.\r\n",
    "- Fill in missing values (inplace) in `text_data` with blanks (\"\"), using the `.fillna()` method.\r\n",
    "- Complete the `.apply()` method by writing a lambda function that uses the `.join()` method to join all the items in a row with a space in between."
   ]
  },
  {
   "cell_type": "code",
   "execution_count": null,
   "id": "43ce88b5-901a-4d35-a0d6-28d1fe57f80f",
   "metadata": {},
   "outputs": [],
   "source": [
    "# Define combine_text_columns()\n",
    "def combine_text_columns(data_frame: pd.DataFrame, to_drop: list=NUMERIC_COLUMNS_td + LABELS_td) -> pd.Series:\n",
    "    \"\"\" converts all text in each row of data_frame to single vector \"\"\"\n",
    "    \n",
    "    # Drop non-text columns that are in the df\n",
    "    to_drop = set(to_drop) & set(data_frame.columns.tolist())\n",
    "    text_data = data_frame.drop(to_drop, axis=1)\n",
    "    \n",
    "    # Replace nans with blanks\n",
    "    text_data.fillna('', inplace=True)\n",
    "    \n",
    "    # Join all text items in a row that have a space in between\n",
    "    return text_data.apply(lambda x: \" \".join(x), axis=1)"
   ]
  },
  {
   "cell_type": "markdown",
   "id": "bba63d58-a5d9-4334-b33b-571ca73f9851",
   "metadata": {},
   "source": [
    "### What's in a token?\r\n",
    "\r\n",
    "Now you will use `combine_text_columns` to convert all training text data in your DataFrame to a single vector that can be passed to the vectorizer object and made into a bag-of-words using the `.fit_transform()` method.\r\n",
    "\r\n",
    "You'll compare the effect of tokenizing using any non-whitespace characters as a token and using only alphanumeric characters as a token.\r\n",
    "\r\n",
    "**Instructions**\r\n",
    "\r\n",
    "- Import `CountVectorizer` from `sklearn.feature_extraction.text`.\r\n",
    "- Instantiate `vec_basic` and `vec_alphanumeric` using, respectively, the `TOKENS_BASIC` and `TOKENS_ALPHANUMERIC` patterns.\r\n",
    "- Create the text vector by using the `combine_text_columns()` function on `df`.\r\n",
    "- Using the `.fit_transform()` method with `text_vector`, fit and transform first `vec_basic` and then `vec_alphanumeric`. Print the number of tokens they contain."
   ]
  },
  {
   "cell_type": "code",
   "execution_count": null,
   "id": "ab3b92ae-b23b-4b44-89ec-8ce65c364652",
   "metadata": {},
   "outputs": [],
   "source": [
    "# Create the basic token pattern\n",
    "TOKENS_BASIC = '\\\\S+(?=\\\\s+)'\n",
    "\n",
    "# Create the alphanumeric token pattern\n",
    "TOKENS_ALPHANUMERIC = '[A-Za-z0-9]+(?=\\\\s+)'\n",
    "\n",
    "# Instantiate basic CountVectorizer: vec_basic\n",
    "vec_basic = CountVectorizer(token_pattern=TOKENS_BASIC)\n",
    "\n",
    "# Instantiate alphanumeric CountVectorizer: vec_alphanumeric\n",
    "vec_alphanumeric = CountVectorizer(token_pattern=TOKENS_ALPHANUMERIC)\n",
    "\n",
    "# Create the text vector\n",
    "text_vector = combine_text_columns(df)\n",
    "\n",
    "# Fit and transform vec_basic\n",
    "vec_basic.fit_transform(text_vector)\n",
    "\n",
    "# Print number of tokens of vec_basic\n",
    "print(\"There are {} tokens in the dataset\".format(len(vec_basic.get_feature_names_out())))\n",
    "\n",
    "# Fit and transform vec_alphanumeric\n",
    "vec_alphanumeric.fit_transform(text_vector)\n",
    "\n",
    "# Print number of tokens of vec_alphanumeric\n",
    "print(\"There are {} alpha-numeric tokens in the dataset\".format(len(vec_alphanumeric.get_feature_names_out())))"
   ]
  },
  {
   "cell_type": "markdown",
   "id": "615f1006-ef42-4a30-8ef7-d8c4946b2fda",
   "metadata": {},
   "source": [
    "**Notice that tokenizing on alpha-numeric tokens reduced the number of tokens, just as in the last exercise. We'll keep this in mind when building a better model with the Pipeline object next.**"
   ]
  },
  {
   "cell_type": "markdown",
   "id": "6c93fbc6-1f47-4655-9e76-b88d2aa82fa3",
   "metadata": {},
   "source": [
    "# Improving your model"
   ]
  },
  {
   "cell_type": "markdown",
   "id": "eb87d184-9b25-4124-95c3-2ae39c930d79",
   "metadata": {},
   "source": [
    "## Pipelines, feature & text preprocessing\r\n",
    "\r\n",
    "1. **Pipelines, feature & text preprocessing**: You've submitted your first simple model. Now it's time to combine what we've learned about NLP with our model pipeline and incorporate the text data into our algorithm.\r\n",
    "- Repeatable way to go from raw data to trained model\r\n",
    "- Pipeline object takes sequential list of steps\r\n",
    "  - Output of one step is input to next step\r\n",
    "- Each step is a tuple with two elements\r\n",
    "  - Name: string\r\n",
    "  - Transform: obj implementing .fit() and .transform()\r\n",
    "- Flexible: a step can itself be another pipeline!\r\n",
    "\r\n",
    "2. **The pipeline workflow**: The supervised learning course introduced pipelines, which are a repeatable way to go from raw data to a trained machine learning model. The scikit-learn Pipeline object takes a sequential list of steps where the output of one step is the input to the next. Each step is represented with a name for the step, that is simply a string, and an object that implements the fit and the transform methods. A good example is the `CountVectorizer` that we used earlier. As we'll see Pipelines are a very flexible way to represent your workflow. In fact, you can even have a sub-pipeline as one of the steps! The beauty of the Pipeline is that it encapsulates every transformation from raw data to a trained model.\r\n",
    "\r\n",
    "```python\r\n",
    "from sklearn.pipeline import Pipeline\r\n",
    "from sklearn.linear_model import LogisticRegression\r\n",
    "from sklearn.multiclass import OneVsRestClassifier\r\n",
    "pl = Pipeline([('clf', OneVsRestClassifier(LogisticRegression()))])\r\n",
    "```\r\n",
    "\r\n",
    "3. **Instantiate simple pipeline with one step**: After importing the relevant modules, we'll start with a one-step pipeline. Although we don't need a pipeline for a single step, this exercise will get us familiar with the syntax. Remember, we create a Pipeline by passing it a series of named steps. In this case the name is the string 'clf', and the step is the one-vs-rest logistic regression classifier we created earlier.\r\n",
    "\r\n",
    "4. **Train and test with sample numeric data**: The sample dataset we've been working with has numeric data in the numeric columns and the with missing column. We'll start by building a model to predict the label column with the numeric data.\r\n",
    "\r\n",
    "5. **Train and test with sample numeric data**: First, we'll use the train_test split function from sklearn dot model_selection. Our X will just be the numeric column, and our Y will be the dummy encoding of the label column. We'll call the fit method on our Pipeline, just like a normal classifier in sklearn. We can see that it returns a Pipeline that has one step to do our logistic regression.\r\n",
    "\r\n",
    "```python\r\n",
    "from sklearn.model_selection import train_test_split\r\n",
    "X_train, X_test, y_train, y_test = train_test_split(sample_df[['numeric']], pd.get_dummies(sample_df['label']), random_state=2)\r\n",
    "pl.fit(X_train, y_train)\r\n",
    "```\r\n",
    "\r\n",
    "6. **Train and test with sample numeric data**: By using the score function on our pipeline, we can see how our Pipeline performs on the test set. The default scoring method for this classifier is accuracy. That's good enough for our sample dataset.\r\n",
    "\r\n",
    "```python\r\n",
    "accuracy = pl.score(X_test, y_test)\r\n",
    "print('accuracy on numeric data, no nans: ', accuracy)\r\n",
    "```\r\n",
    "\r\n",
    "7. **Adding more steps to the pipeline**: Let's add the with_missing column to our training set. Oops! Now when we call fit, we see a value error that explains that our input has NaN values.\r\n",
    "\r\n",
    "```python\r\n",
    "X_train, X_test, y_train, y_test = train_test_split(sample_df[['numeric', 'with_missing']], pd.get_dummies(sample_df['label']), random_state=2)\r\n",
    "pl.fit(X_train, y_train)\r\n",
    "```\r\n",
    "\r\n",
    "8. **Preprocessing numeric features with missing data**: To address this, we'll add an Imputer to our pipeline, which will fill in the NaN values. To do so, we add a step to the Pipeline with the name 'imp' and an Imputer object. The default imputation in scikit-learn is to fill missing values with the mean of the column in question. You can look at the documentation of the Imputer object to see other possible imputation strategies.\r\n",
    "\r\n",
    "```python\r\n",
    "from sklearn.preprocessing import Imputer\r\n",
    "X_train, X_test, y_train, y_test = train_test_split(sample_df[['numeric', 'with_missing']], pd.get_dummies(sample_df['label']), random_state=2)\r\n",
    "pl = Pipeline([('imp', Imputer()), ('clf', OneVsRestClassifier(LogisticRegression()))])\r\n",
    "```\r\n",
    "\r\n",
    "9. **Preprocessing numeric features with missing data**: We can call fit and score on the new pipeline, just like we did before. But, in this case our model also includes the column with_missing which had NaN values that were imputed.\r\n",
    "\r\n",
    "```python\r\n",
    "pipeline.fit(X_train, y_train)\r\n",
    "accuracy = pl.score(X_test, y_test)\r\n",
    "print('accuracy on all numeric, incl nans: ', accuracy)\r\n",
    "```"
   ]
  },
  {
   "cell_type": "markdown",
   "id": "c61b9581-3f9a-4341-bda2-3d7eba8a3a9d",
   "metadata": {},
   "source": [
    "### Instantiate pipeline\r\n",
    "\r\n",
    "In order to make your life easier as you start to work with all of the data in your original DataFrame, `df`, it's time to turn to one of scikit-learn's most useful objects: the `Pipeline`.\r\n",
    "\r\n",
    "For the next few exercises, you'll reacquaint yourself with pipelines and train a classifier on some synthetic (sample) data of multiple datatypes before using the same techniques on the main dataset.\r\n",
    "\r\n",
    "The sample data is stored in the DataFrame, `sample_df`, which has three kinds of feature data: numeric, text, and numeric with missing values. It also has a label column with two classes, `a` and `b`.\r\n",
    "\r\n",
    "In this exercise, your job is to instantiate a pipeline that trains using the `numeric` column of the sample data.\r\n",
    "\r\n",
    "**Instructions**\r\n",
    "\r\n",
    "- Import `Pipeline` from `sklearn.pipeline`.\r\n",
    "- Create training and test sets using the numeric data only. Do this by specifying `sample_df[['numeric']]` in `train_test_split()`.\r\n",
    "- Instantiate a pipeline as pl by adding the classifier step. Use a name of `'clf'` and the same classifier from Chapter 2: `OneVsRestClassifier(LogisticRegression())`.\r\n",
    "- Fit your pipeline to the training data and compute its accuracy to see it in action! Since this is toy data, you'll use the default scoring method for now. In the next chapter, you'll return to log loss scoring."
   ]
  },
  {
   "cell_type": "code",
   "execution_count": null,
   "id": "cf2527ea-e93b-4ce5-84ab-90e69008de3f",
   "metadata": {},
   "outputs": [],
   "source": [
    "sample_df = pd.read_csv('data/2024-01-19_school_budgeting_with_machine_learning_in_python/sample_df.csv')\n",
    "\n",
    "sample_df['text'].fillna('', inplace=True)"
   ]
  },
  {
   "cell_type": "code",
   "execution_count": null,
   "id": "4e50ae90-12f6-4532-ae56-464828c8e31e",
   "metadata": {},
   "outputs": [],
   "source": [
    "# Split and select numeric data only, no nans \n",
    "X_train, X_test, y_train, y_test = train_test_split(sample_df[['numeric']], pd.get_dummies(sample_df['label']),  random_state=22)\n",
    "\n",
    "# Instantiate Pipeline object: pl\n",
    "pl = Pipeline([('clf', OneVsRestClassifier(LogisticRegression()))])\n",
    "\n",
    "# Fit the pipeline to the training data\n",
    "pl.fit(X_train, y_train)\n",
    "\n",
    "# Compute and print accuracy\n",
    "accuracy = pl.score(X_test, y_test)\n",
    "print(\"Accuracy on sample data - numeric, no nans: \", accuracy)"
   ]
  },
  {
   "cell_type": "markdown",
   "id": "2b2e3fc7-5908-4b3e-8685-bbd7afcbbd6e",
   "metadata": {},
   "source": [
    "**Now it's time to incorporate numeric data with missing values by adding a preprocessing step!**"
   ]
  },
  {
   "cell_type": "markdown",
   "id": "b5cfccfe-8a5c-4a77-a1fb-d18f053f8ab6",
   "metadata": {},
   "source": [
    "### Preprocessing numeric features\r\n",
    "\r\n",
    "What would have happened if you had included the with `'with_missing'` column in the last exercise? Without imputing missing values, the pipeline would **not** be happy (try it and see). So, in this exercise you'll improve your pipeline a bit by using the `Imputer()` imputation transformer from scikit-learn to fill in missing values in your sample data.\r\n",
    "\r\n",
    "By default, the [imputer transformer][1] replaces NaNs with the mean value of the column. That's a good enough imputation strategy for the sample data, so you won't need to pass anything extra to the imputer.\r\n",
    "\r\n",
    "After importing the transformer, you will edit the steps list used in the previous exercise by inserting a `(name, transform)` tuple. Recall that steps are processed sequentially, so make sure the new tuple encoding your preprocessing step is put in the right place.\r\n",
    "\r\n",
    "The `sample_df` is in the workspace, in case you'd like to take another look. Make sure to select **both** numeric columns- in the previous exercise we couldn't use `with_missing` because we had no preprocessing step!\r\n",
    "\r\n",
    "**Instructions**\r\n",
    "\r\n",
    "- Import `Imputer` from `sklearn.preprocessing`.\r\n",
    "- Create training and test sets by selecting the correct subset of `sample_df`: `numeric` and `with_missing`.\r\n",
    "- Add the tuple `('imp', Imputer())` to the correct position in the pipeline. `Pipeline` processes steps sequentially, so the imputation step should come __before__ the classifier step.\r\n",
    "- Complete the `.fit()` and `.score()` methods to fit the pipeline to the data and compute the accuracy.\r\n",
    "\r\n",
    "[1]: http://scikit-learn.org/stable/modules/generated/sklearn.preprocessing.Imputer.html"
   ]
  },
  {
   "cell_type": "code",
   "execution_count": null,
   "id": "2e778c2e-db1d-4cab-99ce-d79784497263",
   "metadata": {},
   "outputs": [],
   "source": [
    "# Create training and test sets using only numeric data\n",
    "X_train, X_test, y_train, y_test = train_test_split(sample_df[['numeric', 'with_missing']],\n",
    "                                                    pd.get_dummies(sample_df['label']), \n",
    "                                                    random_state=456)\n",
    "\n",
    "# Insantiate Pipeline object: pl\n",
    "pl = Pipeline([('imp', SimpleImputer()), ('clf', OneVsRestClassifier(LogisticRegression()))])\n",
    "\n",
    "# Fit the pipeline to the training data\n",
    "pl.fit(X_train, y_train)\n",
    "\n",
    "# Compute and print accuracy\n",
    "accuracy = pl.score(X_test, y_test)\n",
    "print(\"Accuracy on sample data - all numeric, incl nans: \", accuracy)"
   ]
  },
  {
   "cell_type": "markdown",
   "id": "d329b86a-7f73-4f5f-b1ca-d078cab6c63b",
   "metadata": {},
   "source": [
    "**Now you know how to use preprocessing in pipelines with numeric data, and it looks like the accuracy has improved because of it! Text data preprocessing is next!**"
   ]
  },
  {
   "cell_type": "markdown",
   "id": "5b418a9f-9474-488e-8977-6d57ad98d868",
   "metadata": {},
   "source": [
    "## Test features and feature union\r\n",
    "\r\n",
    "1. **Text features and feature unions**: In this video, we'll look at how we process text data in a pipeline and then how we put it all together.\r\n",
    "\r\n",
    "2. **Preprocessing text features**: Our sample dataframe contains one column we haven't used yet, the text column. First, we'll change our train and test data just to be working with the text data for now. Then, we'll add a step to our Pipeline with the name vec and the CountVectorizer object from scikit-learn. Now our pipeline will use the CountVectorizer on our dataset, and then it will pass the result into our classifier.\r\n",
    "\r\n",
    "```python\r\n",
    "from sklearn.feature_extraction.text import CountVectorizer\r\n",
    "X_train, X_test, y_train, y_test = train_test_split(sample_df['text'], pd.get_dummies(sample_df['label']), random_state=2)\r\n",
    "pl = Pipeline([('vec', CountVectorizer()), ('clf', OneVsRestClassifier(LogisticRegression()))])\r\n",
    "```\r\n",
    "\r\n",
    "3. **Preprocessing text features**: Again, we can call the fit and score methods on the Pipeline. The score function now reports our accuracy if we just use the text data.\r\n",
    "\r\n",
    "```python\r\n",
    "pl.fit(X_train, y_train)\r\n",
    "\r\n",
    "accuracy = pl.score(X_test, y_test)\r\n",
    "print('accuracy on sample data: ', accuracy)\r\n",
    "```\r\n",
    "\r\n",
    "4. **Preprocessing multiple dtypes**: Let's say we want to use all of our data in a single pipeline. We can't just have a Pipeline that has a `CountVectorizer` step, Imputation step, and then a classifier. The `CountVectorizer` won't know what to do with the numeric columns, and we don't want to perform imputation on the text columns. In order to build our pipeline, we need to separately operate on the text columns and on the numeric columns. There are two tools: FunctionTransformer and FeatureUnion that will help us build a Pipeline to work with both our text and numeric data. The first utility that we cover is the FunctionTransformer.\r\n",
    "- Want to use all available features in one pipeline\r\n",
    "- Problem\r\n",
    "  - Pipeline steps for numeric and text preprocessing can't follow each other\r\n",
    "  - e.g., output of `CountVectorizer` can't be input to `Imputer`\r\n",
    "- Solution\r\n",
    "  - `FunctionTransformer()` & `FeatureUnion()`\r\n",
    "\r\n",
    "5. **FunctionTransformer**: `FunctionTransformer` has a simple job: take a Python function, and turn it into an object that the scikit-learn Pipeline can understand. We'll write two simple functions: one that takes the whole dataframe, and returns just the numeric columns. The other will take the whole dataframe and return just the text columns. Using these function transformers, we can build a separate Pipeline for our numeric data and for our text data.\r\n",
    "- Turns a Python function into an object that a scikit-learn pipeline can understand\r\n",
    "- Need to write two functions for pipeline preprocessing\r\n",
    "  - Take entire DataFrame, return numeric columns\r\n",
    "  - Take entire DataFrame, return text columns\r\n",
    "- Can then preprocess numeric and text data in separate pipelines\r\n",
    "\r\n",
    "6. **Putting it all together**: First, we'll do our train_test split on the entire dataset and import the FunctionTransformer and FeatureUnion utilities.\r\n",
    "\r\n",
    "```python\r\n",
    "X_train, X_test, y_train, y_test = train_test_split(sample_df[['numeric','with_missing', 'text']], pd.get_dummies(sample_df['label']), random_state=2)\r\n",
    "\r\n",
    "from sklearn.preprocessing import FunctionTransformer\r\n",
    "from sklearn.pipeline import FeatureUnion\r\n",
    "```\r\n",
    "\r\n",
    "7. **Putting it all together**: Next, we'll create two `FunctionTransformer` objects. The first takes a dataframe and just returns the column named 'text'. The second takes a dataframe and returns the columns named 'numeric' and 'with_missing'. These two function transformer objects will let us set up separate Pipelines that operate on the selected columns only. Note that we've passed the parameter validate equals False. This simply tells scikit-learn it doesn't need to check for NaNs or validate the dtypes of the input. We'll do that work ourselves.\r\n",
    "\r\n",
    "```python\r\n",
    "get_text_data = FunctionTransformer(lambda x: x['text'], validate=False)\r\n",
    "get_numeric_data = FunctionTransformer(lambda x: x[['numeric', 'with_missing']], validate=False)\r\n",
    "```\r\n",
    "\r\n",
    "8. **FeatureUnion Text and Numeric Features**: `FeatureUnion` from the sklearn dot pipeline module is the other utility we need. We know that our text pipeline generates the array on the left, our text features.\r\n",
    "\r\n",
    "9. **FeatureUnion Text and Numeric Features**: And our numeric pipeline generates the array on the right, our numeric features.\r\n",
    "\r\n",
    "10. **FeatureUnion Text and Numeric Features**: The FeatureUnion object puts these two sets of features together as a single array that will be the input to our classifier.\r\n",
    "\r\n",
    "```python\r\n",
    "from sklearn.pipeline import FeatureUnion\r\n",
    "union = FeatureUnion([('numeric', numeric_pipeline), ('text', text_pipeline)])\r\n",
    "```\r\n",
    "\r\n",
    "11. **Putting it all together**: Here's our entire pipeline, which processes our text and numeric data. First, we create our separate text and numeric pipelines. Remember, `get_numeric_data` and `get_text_data` are the `FunctionTransformers` that we just created. These pipelines output our numeric features and our text features respectively. Then we create our overall pipeline, which has two steps: First, the `FeatureUnion` takes a list of objects, calls each one, and then concatenates the output into a wide array out of all the results. In this case, it will call our numeric pipeline and then our text pipeline. Once we have this array of all of our features, we can pass it to our classifier. We can call fit and score on this pipeline, just like our simpler ones before it.\r\n",
    "\r\n",
    "```python\r\n",
    "numeric_pipeline = Pipeline([('selector', get_numeric_data), ('imputer', Imputer())])\r\n",
    "text_pipeline = Pipeline([('selector', get_text_data), ('vectorizer', CountVectorizer())])\r\n",
    "pl = Pipeline([('union', FeatureUnion([('numeric', numeric_pipeline), ('text', text_pipeline)])),\r\n",
    "               ('clf', OneVsRestClassifier(LogisticRegression()))])\r\n",
    "```"
   ]
  },
  {
   "cell_type": "markdown",
   "id": "3791aa28-417a-45b4-845e-66208018c0a4",
   "metadata": {},
   "source": [
    "### Preprocessing text features\r\n",
    "\r\n",
    "Here, you'll perform a similar preprocessing pipeline step, only this time you'll use the `text` column from the sample data.\r\n",
    "\r\n",
    "To preprocess the text, you'll turn to `CountVectorizer()` to generate a bag-of-words representation of the data, as in Chapter 2. Using the [default][1] arguments, add a `(step, transform)` tuple to the steps list in your pipeline.\r\n",
    "\r\n",
    "Make sure you select only the text column for splitting your training and test sets.\r\n",
    "\r\n",
    "As usual, your `sample_df` is ready and waiting in the workspace.\r\n",
    "\r\n",
    "**Instructions**\r\n",
    "\r\n",
    "- Import `CountVectorizer` from `sklearn.feature_extraction.tex`t.\r\n",
    "- Create training and test sets by selecting the correct subset of `sample_df`: `'text'`.\r\n",
    "- Add the `CountVectorizer` step (with the name `'vec'`) to the correct position in the pipeline.\r\n",
    "- Fit the pipeline to the training data and compute its accuracy.\r\n",
    "\r\n",
    "[1]: http://scikit-learn.org/stable/modules/generated/sklearn.feature_extraction.text.CountVectorizer.html"
   ]
  },
  {
   "cell_type": "code",
   "execution_count": null,
   "id": "9a5bb903-c8e6-40d0-a85e-9940277aaf4d",
   "metadata": {},
   "outputs": [],
   "source": [
    "# Split out only the text data\n",
    "X_train, X_test, y_train, y_test = train_test_split(sample_df['text'],\n",
    "                                                    pd.get_dummies(sample_df['label']), \n",
    "                                                    random_state=456)\n",
    "\n",
    "# Instantiate Pipeline object: pl\n",
    "pl = Pipeline([\n",
    "        ('vec', CountVectorizer()),\n",
    "        ('clf', OneVsRestClassifier(LogisticRegression()))\n",
    "    ])\n",
    "\n",
    "# Fit to the training data\n",
    "pl.fit(X_train, y_train)\n",
    "\n",
    "# Compute and print accuracy\n",
    "accuracy = pl.score(X_test, y_test)\n",
    "print(\"\\nAccuracy on sample data - just text data: \", accuracy)"
   ]
  },
  {
   "cell_type": "markdown",
   "id": "9ce6e626-2b74-4b38-a66e-0db2856c88a1",
   "metadata": {},
   "source": [
    "### Multiple types of processing: FunctionTransformer\r\n",
    "\r\n",
    "The next two exercises will introduce new topics you'll need to make your pipeline truly excel.\r\n",
    "\r\n",
    "Any step in the pipeline must be an object that implements the `fit` and `transform` methods. The [`FunctionTransformer`][1] creates an object with these methods out of any Python function that you pass to it. We'll use it to help select subsets of data in a way that plays nicely with pipelines.\r\n",
    "\r\n",
    "You are working with numeric data that needs imputation, and text data that needs to be converted into a bag-of-words. You'll create functions that separate the text from the numeric variables and see how the `.fit()` and `.transform()` methods work.\r\n",
    "\r\n",
    "**Instructions**\r\n",
    "\r\n",
    "- Compute the selector `get_text_data` by using a lambda function and `FunctionTransformer()` to obtain all `'text'` columns.\r\n",
    "- Compute the selector `get_numeric_data` by using a lambda function and `FunctionTransformer()` to obtain all the numeric columns (including missing data). These are `'numeric'` and `'with_missing'`.\r\n",
    "- Fit and transform `get_text_data` using the `.fit_transform()` method with `sample_df` as the argument.\r\n",
    "- Fit and transform `get_numeric_data` using the same approach as above.\r\n",
    "\r\n",
    "\r\n",
    "[1]: http://scikit-learn.org/stable/modules/generated/sklearn.preprocessing.FunctionTransformer.html"
   ]
  },
  {
   "cell_type": "code",
   "execution_count": null,
   "id": "0e8b01c8-6105-4bff-98cc-69c1273d5b54",
   "metadata": {},
   "outputs": [],
   "source": [
    "# Obtain the text data: get_text_data\n",
    "get_text_data = FunctionTransformer(lambda x: x['text'], validate=False)\n",
    "\n",
    "# Obtain the numeric data: get_numeric_data\n",
    "get_numeric_data = FunctionTransformer(lambda x: x[['numeric', 'with_missing']], validate=False)\n",
    "\n",
    "# Fit and transform the text data: just_text_data\n",
    "just_text_data = get_text_data.fit_transform(sample_df)\n",
    "\n",
    "# Fit and transform the numeric data: just_numeric_data\n",
    "just_numeric_data = get_numeric_data.fit_transform(sample_df)\n",
    "\n",
    "# Print head to check results\n",
    "print('Text Data')\n",
    "display(just_text_data.head())\n",
    "print('\\nNumeric Data')\n",
    "display(just_numeric_data.head())"
   ]
  },
  {
   "cell_type": "markdown",
   "id": "86c59a0d-8836-4885-8785-66303ab6b9b6",
   "metadata": {},
   "source": [
    "### Multiple types of processing: FeatureUnion\r\n",
    "\r\n",
    "Now that you can separate text and numeric data in your pipeline, you're ready to perform separate steps on each by nesting pipelines and using `FeatureUnion()`.\r\n",
    "\r\n",
    "These tools will allow you to streamline all preprocessing steps for your model, even when multiple datatypes are involved. Here, for example, you don't want to impute our text data, and you don't want to create a bag-of-words with our numeric data. Instead, you want to deal with these separately and then join the results together using `FeatureUnion()`.\r\n",
    "\r\n",
    "In the end, you'll still have only two high-level steps in your pipeline: preprocessing and model instantiation. The difference is that the first preprocessing step actually consists of a pipeline for numeric data and a pipeline for text data. The results of those pipelines are joined using `FeatureUnion()`.\r\n",
    "\r\n",
    "**Instructions**\r\n",
    "\r\n",
    "- In the `process_and_join_features`:\r\n",
    "  - Add the steps `('selector', get_numeric_data)` and `('imputer', Imputer())` to the `'numeric_features'` preprocessing step.\r\n",
    "  - Add the equivalent steps for the `text_features` preprocessing step. That is, use `get_text_data` and a `CountVectorizer` step with the name `'vectorizer'`.\r\n",
    "- Add the transform step `process_and_join_features` to `'union'` in the main pipeline, `pl`.\r\n",
    "- Hit submit to see the pipeline in action!"
   ]
  },
  {
   "cell_type": "code",
   "execution_count": null,
   "id": "ee33d9fa-0f80-43a0-9f7a-acf42a9633d6",
   "metadata": {},
   "outputs": [],
   "source": [
    "# Split using ALL data in sample_df\n",
    "X_train, X_test, y_train, y_test = train_test_split(sample_df[['numeric', 'with_missing', 'text']],\n",
    "                                                    pd.get_dummies(sample_df['label']), \n",
    "                                                    random_state=22)\n",
    "\n",
    "# Create a FeatureUnion with nested pipeline: process_and_join_features\n",
    "process_and_join_features = FeatureUnion(\n",
    "            transformer_list = [\n",
    "                ('numeric_features', Pipeline([\n",
    "                    ('selector', get_numeric_data),\n",
    "                    ('imputer', SimpleImputer())\n",
    "                ])),\n",
    "                ('text_features', Pipeline([\n",
    "                    ('selector', get_text_data),\n",
    "                    ('vectorizer', CountVectorizer())\n",
    "                ]))\n",
    "             ]\n",
    "        )\n",
    "\n",
    "# Instantiate nested pipeline: pl\n",
    "pl = Pipeline([\n",
    "        ('union', process_and_join_features),\n",
    "        ('clf', OneVsRestClassifier(LogisticRegression()))\n",
    "    ])\n",
    "\n",
    "\n",
    "# Fit pl to the training data\n",
    "pl.fit(X_train, y_train)\n",
    "\n",
    "# Compute and print accuracy\n",
    "accuracy = pl.score(X_test, y_test)\n",
    "print(\"\\nAccuracy on sample data - all data: \", accuracy)"
   ]
  },
  {
   "cell_type": "markdown",
   "id": "2094f7db-b88f-49bc-bede-fa634fa0c411",
   "metadata": {},
   "source": [
    "## Choosing a classification model\r\n",
    "\r\n",
    "1. **Choosing a classification model**: Now that we understand how to pull together text and numeric data into a single machine learning pipeline, we'll return to talking about our school budget dataset. In the sample dataset, there was only one text column. This is the format that `CountVectorizer` expects.\r\n",
    "\r\n",
    "2. **Main dataset: lots of text**: However, our main dataset has 14 text columns. In an interactive exercise during our NLP chapter we wrote a function combine_text_columns that put together all the text columns into a single column. We'll re-use this function as part of our Pipeline to process the text in the budget dataset.\r\n",
    "\r\n",
    "```python\r\n",
    "LABELS = ['Function', 'Use', 'Sharing', 'Reporting', 'Student_Type', 'Position_Type', 'Object_Type', 'Pre_K', 'Operating_Status']\r\n",
    "NON_LABELS = [c for c in df.columns if c not in LABELS]\r\n",
    "len(NON_LABELS) - len(NUMERIC_COLUMNS)\r\n",
    "```\r\n",
    "\r\n",
    "3. **Using pipeline with the main dataset**: Again, as we did in the last chapter, we'll use the `get_dummies` function from pandas to create our label array, and we'll also create our train-test split using the `multilabel_train_test_split` function. Hopefully, this is starting to feel familiar.\r\n",
    "\r\n",
    "4. **Using pipeline with the main dataset**: Now we'll create a pipeline for working with our main dataset. The beauty of this code, is that it has one change from the code we used for the sample dataset: we create a `FunctionTransformer` object using our combine_text_columns function instead of the simple selection function we used in the sample dataset. Other than this one change, the pipeline that processes the text, imputes the numeric columns, joins those results together and then fits a multilabel logistic regression remains the same.\r\n",
    "\r\n",
    "```python\r\n",
    "import numpy as np\r\n",
    "import pandas as pd\r\n",
    "\r\n",
    "df = pd.read_csv('TrainingSetSample.csv', index_col=0)\r\n",
    "dummy_labels = pd.get_dummies(df[LABELS])\r\n",
    "X_train, X_test, y_train, y_test = multilabel_train_test_split(\r\n",
    "    df[NON_LABELS], dummy_labels,\r\n",
    "    0.2)\r\n",
    "\r\n",
    "get_text_data = FunctionTransformer(combine_text_columns, validate=False)\r\n",
    "get_numeric_data = FunctionTransformer(lambda x: x[NUMERIC_COLUMNS], validate=False)\r\n",
    "pl = Pipeline([\r\n",
    "    ('union', FeatureUnion([\r\n",
    "        ('numeric_features', Pipeline([\r\n",
    "            ('selector', get_numeric_data),\r\n",
    "            ('imputer', Imputer())\r\n",
    "        ])),\r\n",
    "        ('text_features', Pipeline([\r\n",
    "            ('selector', get_text_data),\r\n",
    "            ('vectorizer', CountVectorizer())\r\n",
    "        ]))\r\n",
    "    ])\r\n",
    "     ),\r\n",
    "    ('clf', OneVsRestClassifier(LogisticRegression()))\r\n",
    "])\r\n",
    "```\r\n",
    "\r\n",
    "5. **Performance using main dataset**: We can now fit this Pipeline on the school budget dataset. As part of our exercises, we'll look at the results of this pipeline. Now we have infrastructure for processing our features and fitting a model. This infrastructure allows us to easily experiment with adapting different parts of the pipeline. Part of your challenge in the exercises will be to improve the performance of the pipeline.\r\n",
    "\r\n",
    "```python\r\n",
    "pl.fit(X_train, y_train)\r\n",
    "```\r\n",
    "\r\n",
    "6. **Flexibility of model step**: For example, we can easily experiment with different classes of models. All of our Pipeline code can stay the same, but we can update the last step to be a different class of model instead of `LogisticRegression`. For example, we could try a `RandomForestClassifier`, `NaiveBayesClassifier`, or a `KNeighborsClassifier` instead. In fact, you can look at the scikit-learn documentation and choose any model class you want!\r\n",
    "- Is current model the best?\r\n",
    "- Can quickly try different models with pipelines\r\n",
    "  - Pipeline preprocessing steps unchanged\r\n",
    "  - Edit the model step in your pipeline\r\n",
    "  - Random Forest, Naive Bayes, k-NN\r\n",
    "\r\n",
    "7. **Easily try new models using pipeline**: Here's an example of how simple it is to change the classification method in our scikit-learn Pipeline. We simply import a different class of model--in this case, we'll use a `RandomForestClassifier`. Then, the only other line that needs to change is the one that defines the classifier inside the Pipeline. This makes it very simple for us to try a large number of different model classes and determine which one is the best for the problem that we're working on.\r\n",
    "\r\n",
    "```python\r\n",
    "from sklearn.ensemble import RandomForestClassifier\r\n",
    "\r\n",
    "pl = Pipeline([\r\n",
    "    ('union', FeatureUnion(\r\n",
    "        transformer_list=[\r\n",
    "            ('numeric_features', Pipeline([\r\n",
    "                ('selector', get_numeric_data),\r\n",
    "                ('imputer', Imputer())\r\n",
    "            ])),\r\n",
    "            ('text_features', Pipeline([\r\n",
    "                ('selector', get_text_data),\r\n",
    "                ('vectorizer', CountVectorizer())\r\n",
    "            ]))\r\n",
    "        ]\r\n",
    "    )),\r\n",
    "    ('clf', OneVsRest(RandomForestClassifier()))\r\n",
    "])\r\n",
    "```\r\n",
    "\r\n",
    "8. **Let's practice**: Now your task is to implement the classification pipeline on the school budget dataset. You will also get the chance to experiment with the Pipeline steps and model class. See how much you can improve the performance of the model!"
   ]
  },
  {
   "cell_type": "markdown",
   "id": "5f7630fa-b210-4e3e-af80-195ad51a036e",
   "metadata": {},
   "source": [
    "### Using FunctionTransformer on the main dataset\r\n",
    "\r\n",
    "In this exercise you're going to use `FunctionTransformer` on the primary budget data, before instantiating a multiple-datatype pipeline in the next exercise.\r\n",
    "\r\n",
    "Recall from Chapter 2 that you used a custom function `combine_text_columns` to select and properly format **text data** for tokenization; it is loaded into the workspace and ready to be put to work in a function transformer!\r\n",
    "\r\n",
    "Concerning the **numeric data**, you can use `NUMERIC_COLUMNS`, preloaded as usual, to help design a subset-selecting lambda function.\r\n",
    "\r\n",
    "You're all finished with sample data. The original `df` is back in the workspace, ready to use.\r\n",
    "\r\n",
    "**Instructions**\r\n",
    "\r\n",
    "- Complete the call to `multilabel_train_test_split()` by selecting `df[NON_LABELS]`.\r\n",
    "- Compute `get_text_data` by using `FunctionTransformer()` and passing in `combine_text_columns`. Be sure to also specify `validate=False`.\r\n",
    "- Use `FunctionTransformer()` to compute `get_numeric_data`. In the lambda function, select out the `NUMERIC_COLUMNS` of `x`. Like you did when computing `get_text_data`, also specify `validate=False`."
   ]
  },
  {
   "cell_type": "code",
   "execution_count": null,
   "id": "1499b850-5879-48fb-a124-53a80461f3ad",
   "metadata": {},
   "outputs": [],
   "source": [
    "df = pd.read_csv('data/2024-01-19_school_budgeting_with_machine_learning_in_python/TrainingData.csv', index_col=0)\n",
    "LABELS_td = ['Function', 'Use', 'Sharing', 'Reporting', 'Student_Type', 'Position_Type', 'Object_Type', 'Pre_K', 'Operating_Status']\n",
    "categorize_label = lambda x: x.astype('category')\n",
    "df[LABELS_td] = df[LABELS_td].apply(categorize_label)\n",
    "NUMERIC_COLUMNS_td = df.select_dtypes(include='number').columns.tolist()"
   ]
  },
  {
   "cell_type": "code",
   "execution_count": null,
   "id": "0e405cbc-73e6-477c-89df-4af790bf0cfb",
   "metadata": {},
   "outputs": [],
   "source": [
    "# Get the dummy encoding of the labels\n",
    "dummy_labels = pd.get_dummies(df[LABELS_td])\n",
    "\n",
    "# Get the columns that are features in the original df\n",
    "NON_LABELS = [c for c in df.columns if c not in LABELS_td]\n",
    "\n",
    "# Split into training and test sets\n",
    "X_train, X_test, y_train, y_test = multilabel_train_test_split(df[NON_LABELS],\n",
    "                                                               dummy_labels,\n",
    "                                                               0.2, \n",
    "                                                               seed=123)\n",
    "\n",
    "# Preprocess the text data: get_text_data\n",
    "get_text_data = FunctionTransformer(combine_text_columns, validate=False)\n",
    "\n",
    "# Preprocess the numeric data: get_numeric_data\n",
    "get_numeric_data = FunctionTransformer(lambda x: x[NUMERIC_COLUMNS_td], validate=False)"
   ]
  },
  {
   "cell_type": "markdown",
   "id": "58fa6948-164a-44a6-b7ca-b1413af9f703",
   "metadata": {},
   "source": [
    "### Add a model to the pipeline\r\n",
    "\r\n",
    "You're about to take everything you've learned so far and implement it in a `Pipeline` that works with the real, [DrivenData][1] budget line item data you've been exploring.\r\n",
    "\r\n",
    "**Surprise!** The structure of the pipeline is exactly the same as earlier in this chapter:\r\n",
    "\r\n",
    "- the **preprocessing step** uses `FeatureUnion` to join the results of nested pipelines that each rely on `FunctionTransformer` to select multiple datatypes\r\n",
    "- the **model step** stores the model object\r\n",
    "\r\n",
    "- You can then call familiar methods like `.fit()` and `.score()` on the `Pipeline` object `pl`.\r\n",
    "\r\n",
    "**Instructions**\r\n",
    "\r\n",
    "- Complete the `'numeric_features'` transform with the following steps:\r\n",
    "  - `get_numeric_data`, with the name `'selector'`.\r\n",
    "  - `Imputer()`, with the name `'imputer'`.\r\n",
    "- Complete the `'text_features'` transform with the following steps:\r\n",
    "  - `get_text_data`, with the name `'selector'`.\r\n",
    "  - `CountVectorizer()`, with the name `'vectorizer'`.\r\n",
    "- Fit the pipeline to the training data.\r\n",
    "- Hit submit to compute the accuracy!\r\n",
    "\r\n",
    "\r\n",
    "[1]: https://www.drivendata.org/"
   ]
  },
  {
   "cell_type": "code",
   "execution_count": null,
   "id": "6a898a53-93fc-4bf8-bb3b-bd824949bed3",
   "metadata": {},
   "outputs": [],
   "source": [
    "# Complete the pipeline: pl\n",
    "pl = Pipeline([\n",
    "        ('union', FeatureUnion(\n",
    "            transformer_list = [\n",
    "                ('numeric_features', Pipeline([\n",
    "                    ('selector', get_numeric_data),\n",
    "                    ('imputer', SimpleImputer())\n",
    "                ])),\n",
    "                ('text_features', Pipeline([\n",
    "                    ('selector', get_text_data),\n",
    "                    ('vectorizer', CountVectorizer())\n",
    "                ]))\n",
    "             ]\n",
    "        )),\n",
    "        ('clf', OneVsRestClassifier(LogisticRegression(max_iter=1000)))\n",
    "    ])\n",
    "\n",
    "# Fit to the training data\n",
    "pl.fit(X_train, y_train)\n",
    "\n",
    "# Compute and print accuracy\n",
    "accuracy = pl.score(X_test, y_test)\n",
    "print(\"\\nAccuracy on budget dataset: \", accuracy)"
   ]
  },
  {
   "cell_type": "markdown",
   "id": "483f1868-9786-4dba-bcad-fb76a052b4ba",
   "metadata": {},
   "source": [
    "**Now that you've built the entire pipeline, you can easily start trying out different models by just modifying the `'clf'` step.**"
   ]
  },
  {
   "cell_type": "markdown",
   "id": "3c6cfec0-a466-4e82-891a-58060b5d3443",
   "metadata": {},
   "source": [
    "### Try a different class of model\r\n",
    "\r\n",
    "Now you're cruising. One of the great strengths of pipelines is how easy they make the process of testing different models.\r\n",
    "\r\n",
    "Until now, you've been using the model step `('clf', OneVsRestClassifier(LogisticRegression()))` in your pipeline.\r\n",
    "\r\n",
    "But what if you want to try a different model? Do you need to build an entirely new pipeline? New nests? New FeatureUnions? Nope! You just have a simple one-line change, as you'll see in this exercise.\r\n",
    "\r\n",
    "In particular, you'll swap out the logistic-regression model and replace it with a [random forest][1] classifier, which uses the statistics of an ensemble of decision trees to generate predictions.\r\n",
    "\r\n",
    "**Instructions**\r\n",
    "\r\n",
    "- Import the `RandomForestClassifier` from `sklearn.ensemble`.\r\n",
    "- Add a `RandomForestClassifier()` step named `'clf'` to the pipeline.\r\n",
    "- Hit submit to fit the pipeline to the training data and compute its accuracy.\r\n",
    "\r\n",
    "\r\n",
    "[1]: https://en.wikipedia.org/wiki/Random_forest"
   ]
  },
  {
   "cell_type": "code",
   "execution_count": null,
   "id": "4717873b-25bc-4800-8bca-96f90cc07179",
   "metadata": {},
   "outputs": [],
   "source": [
    "# Edit model step in pipeline\n",
    "pl = Pipeline([\n",
    "        ('union', FeatureUnion(\n",
    "            transformer_list = [\n",
    "                ('numeric_features', Pipeline([\n",
    "                    ('selector', get_numeric_data),\n",
    "                    ('imputer', SimpleImputer())\n",
    "                ])),\n",
    "                ('text_features', Pipeline([\n",
    "                    ('selector', get_text_data),\n",
    "                    ('vectorizer', CountVectorizer())\n",
    "                ]))\n",
    "             ]\n",
    "        )),\n",
    "        ('clf', RandomForestClassifier(n_jobs=-1))\n",
    "    ])\n",
    "\n",
    "# Fit to the training data\n",
    "pl.fit(X_train, y_train)\n",
    "\n",
    "# Compute and print accuracy\n",
    "accuracy = pl.score(X_test, y_test)\n",
    "print(\"\\nAccuracy on budget dataset: \", accuracy)"
   ]
  },
  {
   "cell_type": "markdown",
   "id": "72b2afe7-9dfe-4b47-aa04-1c6fd2c99604",
   "metadata": {},
   "source": [
    "**An accuracy improvement- amazing! All your work building the pipeline is paying off. It's now very simple to test different models!**"
   ]
  },
  {
   "cell_type": "code",
   "execution_count": null,
   "id": "09bcf191-ec06-4e2c-9513-c32c1fbe4f4e",
   "metadata": {},
   "outputs": [],
   "source": [
    "# Edit model step in pipeline\n",
    "pl = Pipeline([\n",
    "        ('union', FeatureUnion(\n",
    "            transformer_list = [\n",
    "                ('numeric_features', Pipeline([\n",
    "                    ('selector', get_numeric_data),\n",
    "                    ('imputer', SimpleImputer())\n",
    "                ])),\n",
    "                ('text_features', Pipeline([\n",
    "                    ('selector', get_text_data),\n",
    "                    ('vectorizer', CountVectorizer())\n",
    "                ]))\n",
    "             ]\n",
    "        )),\n",
    "        ('clf', RandomForestClassifier(n_estimators=15, n_jobs=-1))\n",
    "    ])\n",
    "\n",
    "# Fit to the training data\n",
    "pl.fit(X_train, y_train)\n",
    "\n",
    "# Compute and print accuracy\n",
    "accuracy = pl.score(X_test, y_test)\n",
    "print(\"\\nAccuracy on budget dataset: \", accuracy)"
   ]
  },
  {
   "cell_type": "markdown",
   "id": "ee2f5449-be8f-4f0b-b392-ce01fe66d4a1",
   "metadata": {},
   "source": [
    "**It's time to get serious and work with the log loss metric. You'll learn expert techniques in the next chapter to take the model to the next level.**"
   ]
  },
  {
   "cell_type": "code",
   "execution_count": null,
   "id": "01633607-7f98-46fc-a655-5c815e269770",
   "metadata": {},
   "outputs": [],
   "source": []
  }
 ],
 "metadata": {
  "kernelspec": {
   "display_name": "py312",
   "language": "python",
   "name": "py312"
  },
  "language_info": {
   "codemirror_mode": {
    "name": "ipython",
    "version": 3
   },
   "file_extension": ".py",
   "mimetype": "text/x-python",
   "name": "python",
   "nbconvert_exporter": "python",
   "pygments_lexer": "ipython3",
   "version": "3.12.0"
  }
 },
 "nbformat": 4,
 "nbformat_minor": 5
}
