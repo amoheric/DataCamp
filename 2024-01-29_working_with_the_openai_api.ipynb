{
 "cells": [
  {
   "cell_type": "code",
   "execution_count": null,
   "id": "2c352499-6a08-4c14-a3b0-f794317f1a02",
   "metadata": {},
   "outputs": [],
   "source": [
    "from openai import OpenAI\n",
    "from configparser import ConfigParser"
   ]
  },
  {
   "cell_type": "markdown",
   "id": "9ca0961a-792f-4265-b5d5-57439ab9a85e",
   "metadata": {},
   "source": [
    "# Introduction to the OpenAI API\n",
    "\n",
    "Harness the power of AI from OpenAI's models by creating requests to their API with just a few lines of code. Discover the wide range of capabilities available via the OpenAI API. Learn about the best practices for managing API usage across the business by utilizing API organizations."
   ]
  },
  {
   "cell_type": "markdown",
   "id": "2ecfb999-f2b3-4d97-81c1-ac5596b9e007",
   "metadata": {},
   "source": [
    "## What is the OpenAI API\n",
    "\n",
    "1. What is the OpenAI API?: Welcome to this course! I'm James, and I'll be your host as we explore the artificial intelligence functionality available via the OpenAI API!\n",
    "\n",
    "2. Coming up...: In this course, you'll learn how to use the AI models available through the OpenAI API to solve a wide range of real-world tasks. To do this, we'll be using Python code throughout the course, and expect familiarity with a few Python programming topics like subsetting lists and dictionaries, control flow, and looping. However, no experience with AI or machine learning is required. With that, let's dive right in!\n",
    "\n",
    "3. OpenAI, ChatGPT, and the OpenAI API: OpenAI is a company that researches and develops artificial intelligence systems. One of their most famous developments is ChatGPT, which is an application that allows users to communicate with an AI-powered chatbot to ask questions, perform tasks, or generate content. The OpenAI API allows individuals or organizations to access and customize any of the models developed and released by OpenAI. If OpenAI was a car manufacturer, ChatGPT would be their shiny new sports car that people can walk into a dealership and test drive. The OpenAI API would be like the system customers could use to customize and order any car from the manufacturer's catalog.\n",
    "\n",
    "4. What is an API?: So what actually is an API? API stands for Application Programming Interface, and they act as a messenger between software applications, taking a request to a system and receiving a response containing data or services. An API is like a waiter in a restaurant; they take our order, or request, communicate it to the kitchen—the system providing the service—and finally, deliver the food, or response from the system, back to our table. Many applications interact using APIs; for example, a mobile weather app may send our location to an API and request the local forecast, which gets returned to our phones.\n",
    "\n",
    "5. The OpenAI API: We can similarly write code to interact with the OpenAI API and request the use of one of their models. Our request, in this case, will specify which model we want, the data that we want the model to use, and any other parameters to customize the model's behavior. The response, containing the model result, is then returned to us.\n",
    "\n",
    "6. API vs. web interface: Some of OpenAI's models, such as ChatGPT, can be used from the web browser, so what are the benefits of accessing them via the API? If we're looking to streamline our individual workflows using AI, then a low-setup web browser experience is likely sufficient for our purposes. However, if we're looking to begin integrating AI into our products, customer experiences, or business processes, we'll need the flexibility of working with the API using a programming language.\n",
    "\n",
    "7. Why the OpenAI API?: The beauty of making these models available via an API is that software engineers, developers, or anyone else wanting to integrate AI into products and services, can now access and implement these models without needing a background in data science or machine learning.\n",
    "\n",
    "8. Building AI applications: The OpenAI API has enabled the development of powerful new features, that before, would have required enormous computational resources and data. In the example shown from DataCamp workspace, we developed a feature where users can write or fix code by providing an instruction—all built on the OpenAI API. AI-powered products and services can provide much greater personalization to customers, so experiences can be tailored to an individual's needs and preferences."
   ]
  },
  {
   "cell_type": "markdown",
   "id": "1a65c825dddf8d66",
   "metadata": {
    "collapsed": false,
    "jupyter": {
     "outputs_hidden": false
    }
   },
   "source": [
    "### Applications built on the OpenAI API\n",
    "\n",
    "Software applications, web browser experiences, and even whole products are being built on top of the OpenAI API. In this exercise, you'll be able to explore an application built on top of the OpenAI API: DataCamp's own version of ChatGPT!\n",
    "\n",
    "The text you type into the interface will be sent as a request to the OpenAI API and the response will be delivered and unpacked directly back to you.\n",
    "\n",
    "Using the ChatGPT interface, answer the following question: In what year was OpenAI founded?\n",
    "\n",
    "**Answer**:\n",
    "\n",
    "- **2015**"
   ]
  },
  {
   "cell_type": "markdown",
   "id": "2b307452ae632385",
   "metadata": {
    "collapsed": false,
    "jupyter": {
     "outputs_hidden": false
    }
   },
   "source": [
    "**There are countless other applications out there that harness the power of AI to solve complex problems and streamline the way you work.**"
   ]
  },
  {
   "cell_type": "markdown",
   "id": "598a1ac19a23dc68",
   "metadata": {
    "collapsed": false,
    "jupyter": {
     "outputs_hidden": false
    }
   },
   "source": [
    "### Understanding the OpenAI space\n",
    "\n",
    "There's no better time to be learning about AI! Advancements in artificial intelligence has meant that AI-powered product features and tools are within reaching distance for more individuals and organizations than ever before.\n",
    "\n",
    "In this exercise, you'll test your understanding of some of the major players in the AI space: OpenAI, ChatGPT, and the OpenAI API.\n",
    "\n",
    "**Answer**:\n",
    "\n",
    "**OpenAI**\n",
    "- Organization for researching and developing AI\n",
    "- Developed ChatGPT\n",
    "\n",
    "**ChatGPT**\n",
    "- Users have conversations using plain text\n",
    "- AI application for generating content\n",
    "\n",
    "**OpenAI API**\n",
    "- Users can decide which model to use and customize its behavior\n",
    "- Users create API requests to communicate model usage\n",
    "- Interface for accessing and customizing AI models"
   ]
  },
  {
   "cell_type": "markdown",
   "id": "8647ac4a416a50d7",
   "metadata": {
    "collapsed": false,
    "jupyter": {
     "outputs_hidden": false
    }
   },
   "source": [
    "**Now that you understand what the OpenAI API is and how powerful and accessible the functionality it provides is, head on over to the next video to learn how to leverage it with Python code!**"
   ]
  },
  {
   "cell_type": "markdown",
   "id": "4bf2b07575862235",
   "metadata": {
    "collapsed": false,
    "jupyter": {
     "outputs_hidden": false
    }
   },
   "source": [
    "## Making requests to the OpenAI API\n",
    "\n",
    "1. Making requests to the OpenAI API: Welcome back! In this video, you'll learn to make your very first request to the OpenAI API!\n",
    "\n",
    "2. APIs recap...: Recall that we can request the use of a model from OpenAI by making a request to their API.\n",
    "\n",
    "3. API endpoints: Depending on the model or services required, APIs have different access points for users. These access points are called endpoints. Endpoints are a lot like doors in a hospital. Depending on the treatment required, patients use different doors to reach different departments, and likewise, users can use different API endpoints to request different services.\n",
    "\n",
    "4. API authentication: Endpoints, like many hospital departments, may also require authentication before accessing services. API authentication is usually in the form of providing a unique key containing a random assortment of characters.\n",
    "\n",
    "5. API usage costs: It's important to note that many APIs, including the OpenAI API, have costs associated with using their services. For OpenAI, these costs are dependent on the model requested and on the size of the model input and output.\n",
    "\n",
    "https://openai.com/pricing\n",
    "\n",
    "6. API documentation: A crucial part of working with APIs is navigating API documentation, which provides details on which endpoints to use, their functionality, and how to set up authentication. Throughout the course, we'll provide these API details, but we also recommend checking out OpenAI's excellent API documentation.\n",
    "\n",
    "https://platform.openai.com/docs/api-reference\n",
    "\n",
    "7. Creating an OpenAI API key: Usage of OpenAI's API requires authentication, so to use the API and complete the exercises in this course, you'll need to set up an account. OpenAI often provides free trial credit to new users, which will be more than sufficient for completing this course; however, for some countries, you may need to add a small amount of credit.\n",
    "\n",
    "8. Creating an OpenAI API key: Then, for authentication, you'll need to create a secret key and copy it. DataCamp doesn't store any API keys used in this course, so you can copy it directly into the exercises. Let's make our first API request!\n",
    "\n",
    "9. Making a request: There are several ways to interact with an API, but in this course, we'll use OpenAI's own Python library, which abstracts away a lot of the complexity of working with an API. We start by importing the OpenAI class from openai, which we'll use to instantiate a Python API client. The client configures the environment for communicating with the API. Within this function, we specify our API key, which is used to authenticate requests. Now for the API request code. We'll start by creating a request to the completions endpoint, which is used for completing a text prompt, by calling the create method on client.completions. Inside this method, we specify the model and the prompt to send to it. We'll discuss prompts in greater detail later in the course. Let's take a look at the API response.\n",
    "\n",
    "10. The response: Here's the response. There's a lot of information in the output, so we'll add some spacing to make it more readable. The response from the API is a Completion object, which has various attributes for accessing the different information it contains. It has an id attribute, and choices, created, model, and other attributes below. We can see that the text response is located under the .choices attribute,\n",
    "\n",
    "11. Interpreting the response: so we'll start by accessing that. Attributes are accessed using a dot, then the name of the attribute. We've gotten much closer to the text. Notice from the square brackets at the beginning and end, that this is actually a list with a single element.\n",
    "\n",
    "12. Interpreting the response: Let's extract the first element to dig further. Ok - now we're left with a CompletionChoice object, which has its own set of attributes. Our text response is located underneath its .text attribute, which we can chain to our existing code. There we have it - our text response as a string! We started off with a complex object, but by taking it one attribute at a time, we were able to get to the result.\n",
    "\n",
    "13. Converting the response into a dictionary: In some cases, we may wish to work with a dictionary instead. We can convert the response into a dictionary with the .model_dump() method. In dictionary form, the response's attributes become dictionary keys, but the structure remains the same."
   ]
  },
  {
   "cell_type": "markdown",
   "id": "3881239d-f674-4552-a80a-f70bc75b635b",
   "metadata": {},
   "source": [
    "### Your first API request!\n",
    "\n",
    "Throughout the course, you'll write Python code to interact with the OpenAI API. As a first step, you'll need to create your own API key. **API keys used in this course's exercises will not be stored in any way**.\n",
    "\n",
    "To create a key, you'll first need to create an OpenAI account by visiting their [signup page][1]. Next, navigate to the [API keys page][2] to create your secret key.\n",
    "\n",
    "The button to create a new secret key.\n",
    "\n",
    "OpenAI sometimes provides free credits for the API, but this can differ depending on geography. You may also need to add debit/credit card details. **You'll need less than $1 credit to complete this course**.\n",
    "\n",
    "**Warning**: if you send many requests or use lots of tokens in a short period, you may see an openai.error.RateLimitError. If you see this error, please wait a minute for your quota to reset and you should be able to begin sending more requests. Please see [OpenAI's rate limit error support article][3] for more information.\n",
    "\n",
    "[1]: https://platform.openai.com/signup\n",
    "[2]: https://platform.openai.com/account/api-keys\n",
    "[3]: https://help.openai.com/en/articles/6897202-ratelimiterror"
   ]
  },
  {
   "cell_type": "code",
   "execution_count": null,
   "id": "37792f0b1c2e1740",
   "metadata": {
    "collapsed": false,
    "jupyter": {
     "outputs_hidden": false
    }
   },
   "outputs": [],
   "source": [
    "# https://platform.openai.com/account/billing/overview\n",
    "\n",
    "# read the API key from a config.ini\n",
    "config = ConfigParser()\n",
    "\n",
    "config.read(r'D:\\\\users\\\\trenton\\\\Dropbox\\\\PythonProjects\\\\config_api.ini')\n",
    "api_key = config['openai']['key']"
   ]
  },
  {
   "cell_type": "code",
   "execution_count": null,
   "id": "a90f46e6-d815-4f07-a95a-62b0c8391fad",
   "metadata": {},
   "outputs": [],
   "source": [
    "# create an instance of the OpenAI class\n",
    "client = OpenAI(api_key=api_key)"
   ]
  },
  {
   "cell_type": "code",
   "execution_count": null,
   "id": "c80c4c3fa893fce5",
   "metadata": {
    "collapsed": false,
    "jupyter": {
     "outputs_hidden": false
    }
   },
   "outputs": [],
   "source": [
    "# call the completion endpoint\n",
    "response = client.completions.create(model='gpt-3.5-turbo-instruct', prompt='Who developed ChatGPT')"
   ]
  },
  {
   "cell_type": "code",
   "execution_count": null,
   "id": "11a1fe3939a5b5b9",
   "metadata": {
    "collapsed": false,
    "jupyter": {
     "outputs_hidden": false
    }
   },
   "outputs": [],
   "source": [
    "# print the response\n",
    "print(response.choices[0].text.strip())"
   ]
  },
  {
   "cell_type": "code",
   "execution_count": null,
   "id": "dfbc6cfdea0ec9fd",
   "metadata": {
    "collapsed": false,
    "jupyter": {
     "outputs_hidden": false
    }
   },
   "outputs": [],
   "source": [
    "print(response)"
   ]
  },
  {
   "cell_type": "markdown",
   "id": "c1683830aad95d1d",
   "metadata": {
    "collapsed": false,
    "jupyter": {
     "outputs_hidden": false
    }
   },
   "source": [
    "**You've just taken your very first steps on the road to creating awesome AI-powered applications and experiences. In the next exercise, you'll practice digging into the JSON response to extract the returned text.**"
   ]
  },
  {
   "cell_type": "markdown",
   "id": "40de3d36749916a1",
   "metadata": {
    "collapsed": false,
    "jupyter": {
     "outputs_hidden": false
    }
   },
   "source": [
    "### Digging into the response\n",
    "\n",
    "One of the key skills required to work with APIs is manipulating the response to extract the desired information. In this exercise, you'll push your Python dictionary and list manipulation skills to the max to extract information from the API response.\n",
    "\n",
    "You've been provided with `response`, which is a response from the OpenAI API when provided with the prompt, What is the goal of OpenAI?\n",
    "\n",
    "This `response` object has been printed for you so you can see and understand its structure. If you're struggling to picture the structure, view the dictionary form of the response with `.model_dump()`."
   ]
  },
  {
   "cell_type": "code",
   "execution_count": null,
   "id": "abb1264fc66860d9",
   "metadata": {
    "collapsed": false,
    "jupyter": {
     "outputs_hidden": false
    }
   },
   "outputs": [],
   "source": [
    "response.model_dump()"
   ]
  },
  {
   "cell_type": "code",
   "execution_count": null,
   "id": "2262466b069b1190",
   "metadata": {
    "collapsed": false,
    "jupyter": {
     "outputs_hidden": false
    }
   },
   "outputs": [],
   "source": [
    "response.model"
   ]
  },
  {
   "cell_type": "code",
   "execution_count": null,
   "id": "1071dfb57dddac05",
   "metadata": {
    "collapsed": false,
    "jupyter": {
     "outputs_hidden": false
    }
   },
   "outputs": [],
   "source": [
    "response.usage.total_tokens"
   ]
  },
  {
   "cell_type": "code",
   "execution_count": null,
   "id": "637a353a17c7db9d",
   "metadata": {
    "collapsed": false,
    "jupyter": {
     "outputs_hidden": false
    }
   },
   "outputs": [],
   "source": [
    "response.choices[0].text"
   ]
  },
  {
   "cell_type": "markdown",
   "id": "3e95b2a1b6dae882",
   "metadata": {
    "collapsed": false,
    "jupyter": {
     "outputs_hidden": false
    }
   },
   "source": [
    "**Throughout the course, you'll learn to perform lots of different tasks by making requests to the OpenAI API, and each time, you'll use similar subsetting to dig into the response and extract the result.**"
   ]
  },
  {
   "cell_type": "markdown",
   "id": "e9bc4f3839f310fc",
   "metadata": {
    "collapsed": false,
    "jupyter": {
     "outputs_hidden": false
    }
   },
   "source": [
    "## The OpenAI developer ecosystem\n",
    "\n",
    "1. The OpenAI landscape: Despite being renowned for its GPT series of chat models, OpenAI hosts a diverse array of models capable of performing many different tasks. In this course, we'll be focusing primarily on OpenAI's text-based models, but later in the course, we'll also take a look at the audio transcription and translation capabilities of the Whisper model. For now, however, let's take a closer look at the text capabilities available through the API.\n",
    "\n",
    "2. Completions: The Completions endpoint allows users to send a prompt and receive a model-generated response that attempts to complete the prompt in a likely and consistent way. Completions is used for so-called single-turn tasks, as there is a single prompt and response. However, the models available via this endpoint are extremely flexible, and are capable of answering questions, performing classification tasks, determining text sentiment, explaining complex topics, and much more.\n",
    "\n",
    "3. Chat: The Chat endpoint can be used for applications that require multi-turn tasks, including assisting with ideation, customer support questions, personalized tutoring, translating languages, and writing code. Chat models also perform well on single-turn tasks, so many applications are built on top of chat models for flexibility. We'll cover how to use Chat later in the course.\n",
    "\n",
    "4. Moderation: The Moderation endpoint is used to check whether content violates OpenAI's usage policies, such inciting violence or promoting hate speech. The sensitivity of the model to different types of violations can be customized for specific use cases that may require stricter or more lenient moderation.\n",
    "- [Usage policies][1]\n",
    "- [Overview][2]\n",
    "\n",
    "5. Organizations: For business use cases with frequent requests to the API, it's important to manage usage across the business. Setting up an organization for the API allows for better management of access, billing, and usage limits to the API. Users can be part of multiple organizations and attribute requests to specific organizations for billing. To attribute a request to a specific organization, we only need to add one more line of code. Like the API key, the organization ID can be set before the request.\n",
    "- [Organization Setting][3]\n",
    "\n",
    "6. Rate limits: API rate limits are another key consideration for companies building features on the OpenAI API. Rate limits are a cap on the frequency and size of API requests. They are put in place to ensure fair access to the API, prevent misuse, and also manage the infrastructure that supports the API. For many cases, this may not be an issue, but if a feature is exposed to a large user base, or the requests require generating large bodies of content, they could be at risk of hitting the rate limits.\n",
    "- [Rate Limits][4]\n",
    "\n",
    "7. Organization structure: Much of this risk can be mitigated by, instead of running multiple features under the same organization, having separate organizations for each business unit or product feature, depending on the number of features built on the OpenAI API. In this example, we've created separate OpenAI organizations for three different AI-powered features: a customer service chatbot, a content recommendation system, and a video transcript generator. This distributes the requests to reduce the risk of hitting the rate limit. It also removes the single failure point, so an issue to one organization, such as a billing issue, will only result in the failure of a single feature. Product-separated organizations also provides more granular insights into usage and billing.\n",
    "\n",
    "[1]: https://openai.com/policies/usage-policies\n",
    "[2]: https://platform.openai.com/docs/guides/moderation/overview\n",
    "[3]: https://platform.openai.com/account/org-settings\n",
    "[4]: https://platform.openai.com/docs/guides/rate-limits"
   ]
  },
  {
   "cell_type": "markdown",
   "id": "7dadf558d198c6e3",
   "metadata": {
    "collapsed": false,
    "jupyter": {
     "outputs_hidden": false
    }
   },
   "source": [
    "### Solving problems with AI solutions\n",
    "\n",
    "An Online Scientific Journal called Terra Scientia wants to use AI to make their scientific papers more accessible to a wider audience. To do this, they want to develop a feature where users can double-click on words they don't understand, and an AI model will explain what it means in the context of the article.\n",
    "\n",
    "To accomplish this, the developers at Terra Scientia want to build the feature on top of the OpenAI API.\n",
    "\n",
    "Which OpenAI API endpoint(s) could they use to build this feature?\n",
    "\n",
    "**Answer**:\n",
    "\n",
    "- **Chat**\n",
    "- **Moderation**\n",
    "\n",
    "**Evaluating the situation and model capabilities to see if (1) AI can be used to solve the problem, and (2) what the implementation would look like is the crucial starting place for AI feature development.**"
   ]
  },
  {
   "cell_type": "markdown",
   "id": "4b6f0133dbedee6a",
   "metadata": {
    "collapsed": false,
    "jupyter": {
     "outputs_hidden": false
    }
   },
   "source": [
    "### Structuring organizations\n",
    "\n",
    "You've learned that you can set up organizations to manage API usage and billing. Users can be part of multiple organizations and attribute API requests to a specific organization. It's best practice to structure organizations such that each business unit or product feature has a separate organization, depending on the number of features the business has built on the OpenAI API.\n",
    "\n",
    "What are the benefits of having separate organizations for each business unit or product feature?\n",
    "\n",
    "**Answer**:\n",
    "\n",
    "- **Reducing risk of hitting rate limits**\n",
    "- **Improving insights into usage and billing**\n",
    "- **Removing single failure points**\n",
    "\n",
    "**Managing organizations will ensure that users can have an interruption-free experience that translates the power of AI into real business value.**"
   ]
  },
  {
   "cell_type": "code",
   "execution_count": null,
   "id": "9f3c827b5e5ac280",
   "metadata": {
    "collapsed": false,
    "jupyter": {
     "outputs_hidden": false
    }
   },
   "outputs": [],
   "source": []
  }
 ],
 "metadata": {
  "kernelspec": {
   "display_name": "py312",
   "language": "python",
   "name": "py312"
  },
  "language_info": {
   "codemirror_mode": {
    "name": "ipython",
    "version": 3
   },
   "file_extension": ".py",
   "mimetype": "text/x-python",
   "name": "python",
   "nbconvert_exporter": "python",
   "pygments_lexer": "ipython3",
   "version": "3.12.0"
  }
 },
 "nbformat": 4,
 "nbformat_minor": 5
}
